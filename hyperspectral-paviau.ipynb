{
 "cells": [
  {
   "cell_type": "code",
   "execution_count": 1,
   "id": "d5c216b6",
   "metadata": {
    "execution": {
     "iopub.execute_input": "2024-08-15T19:00:30.933844Z",
     "iopub.status.busy": "2024-08-15T19:00:30.933170Z",
     "iopub.status.idle": "2024-08-15T19:00:39.873752Z",
     "shell.execute_reply": "2024-08-15T19:00:39.872514Z"
    },
    "papermill": {
     "duration": 8.956032,
     "end_time": "2024-08-15T19:00:39.876904",
     "exception": false,
     "start_time": "2024-08-15T19:00:30.920872",
     "status": "completed"
    },
    "tags": []
   },
   "outputs": [
    {
     "data": {
      "text/html": [
       "        <script type=\"text/javascript\">\n",
       "        window.PlotlyConfig = {MathJaxConfig: 'local'};\n",
       "        if (window.MathJax && window.MathJax.Hub && window.MathJax.Hub.Config) {window.MathJax.Hub.Config({SVG: {font: \"STIX-Web\"}});}\n",
       "        if (typeof require !== 'undefined') {\n",
       "        require.undef(\"plotly\");\n",
       "        requirejs.config({\n",
       "            paths: {\n",
       "                'plotly': ['https://cdn.plot.ly/plotly-2.14.0.min']\n",
       "            }\n",
       "        });\n",
       "        require(['plotly'], function(Plotly) {\n",
       "            window._Plotly = Plotly;\n",
       "        });\n",
       "        }\n",
       "        </script>\n",
       "        "
      ]
     },
     "metadata": {},
     "output_type": "display_data"
    }
   ],
   "source": [
    "import tensorflow as tf\n",
    "import keras\n",
    "from keras.layers import Conv2D, Conv3D, Flatten, Dense, Reshape, BatchNormalization\n",
    "from keras.layers import Dropout, Input\n",
    "from keras.models import Model\n",
    "from tensorflow.keras.optimizers import Adam\n",
    "from keras.callbacks import ModelCheckpoint\n",
    "from keras.utils import np_utils\n",
    "\n",
    "from sklearn.decomposition import PCA\n",
    "from sklearn.model_selection import train_test_split\n",
    "from sklearn.metrics import confusion_matrix, accuracy_score, classification_report, cohen_kappa_score\n",
    "\n",
    "from operator import truediv\n",
    "from scipy.io import loadmat\n",
    "from plotly.offline import init_notebook_mode\n",
    "\n",
    "import numpy as np\n",
    "import matplotlib.pyplot as plt\n",
    "import scipy.io as sio\n",
    "import spectral\n",
    "\n",
    "init_notebook_mode(connected=True)\n",
    "%matplotlib inline"
   ]
  },
  {
   "cell_type": "code",
   "execution_count": 2,
   "id": "a69dea73",
   "metadata": {
    "execution": {
     "iopub.execute_input": "2024-08-15T19:00:39.899288Z",
     "iopub.status.busy": "2024-08-15T19:00:39.897559Z",
     "iopub.status.idle": "2024-08-15T19:00:40.573018Z",
     "shell.execute_reply": "2024-08-15T19:00:40.571773Z"
    },
    "papermill": {
     "duration": 0.688876,
     "end_time": "2024-08-15T19:00:40.575855",
     "exception": false,
     "start_time": "2024-08-15T19:00:39.886979",
     "status": "completed"
    },
    "tags": []
   },
   "outputs": [],
   "source": [
    "\n",
    "X=loadmat('../input/pavia-university-hsi/PaviaU.mat')['paviaU']\n",
    "y=loadmat('../input/pavia-university-hsi/PaviaU_gt.mat')['paviaU_gt']\n",
    "    "
   ]
  },
  {
   "cell_type": "code",
   "execution_count": 3,
   "id": "68b58c22",
   "metadata": {
    "execution": {
     "iopub.execute_input": "2024-08-15T19:00:40.596483Z",
     "iopub.status.busy": "2024-08-15T19:00:40.596041Z",
     "iopub.status.idle": "2024-08-15T19:00:40.601659Z",
     "shell.execute_reply": "2024-08-15T19:00:40.600318Z"
    },
    "papermill": {
     "duration": 0.018899,
     "end_time": "2024-08-15T19:00:40.604389",
     "exception": false,
     "start_time": "2024-08-15T19:00:40.585490",
     "status": "completed"
    },
    "tags": []
   },
   "outputs": [],
   "source": [
    "dataset='PU'\n",
    "test_ratio=0.7\n",
    "pixelsize=25"
   ]
  },
  {
   "cell_type": "code",
   "execution_count": 4,
   "id": "af40ffc4",
   "metadata": {
    "execution": {
     "iopub.execute_input": "2024-08-15T19:00:40.624635Z",
     "iopub.status.busy": "2024-08-15T19:00:40.624158Z",
     "iopub.status.idle": "2024-08-15T19:00:40.631382Z",
     "shell.execute_reply": "2024-08-15T19:00:40.630172Z"
    },
    "papermill": {
     "duration": 0.020718,
     "end_time": "2024-08-15T19:00:40.634162",
     "exception": false,
     "start_time": "2024-08-15T19:00:40.613444",
     "status": "completed"
    },
    "tags": []
   },
   "outputs": [],
   "source": [
    "def padWithZeros(X, margin=2):\n",
    "    newX = np.zeros((X.shape[0] + 2 * margin, X.shape[1] + 2* margin, X.shape[2]))\n",
    "    x_offset = margin\n",
    "    y_offset = margin\n",
    "    newX[x_offset:X.shape[0] + x_offset, y_offset:X.shape[1] + y_offset, :] = X\n",
    "    return newX"
   ]
  },
  {
   "cell_type": "code",
   "execution_count": 5,
   "id": "18ffb711",
   "metadata": {
    "execution": {
     "iopub.execute_input": "2024-08-15T19:00:40.656850Z",
     "iopub.status.busy": "2024-08-15T19:00:40.656351Z",
     "iopub.status.idle": "2024-08-15T19:00:40.663309Z",
     "shell.execute_reply": "2024-08-15T19:00:40.661832Z"
    },
    "papermill": {
     "duration": 0.020678,
     "end_time": "2024-08-15T19:00:40.666151",
     "exception": false,
     "start_time": "2024-08-15T19:00:40.645473",
     "status": "completed"
    },
    "tags": []
   },
   "outputs": [],
   "source": [
    "def splitTrainTestSet(X, y, testRatio, randomState=345):\n",
    "    X_train, X_test, y_train, y_test = train_test_split(X, y, test_size=testRatio, random_state=randomState,\n",
    "                                                        stratify=y)\n",
    "    return X_train, X_test, y_train, y_test"
   ]
  },
  {
   "cell_type": "code",
   "execution_count": 6,
   "id": "8a0cf03c",
   "metadata": {
    "execution": {
     "iopub.execute_input": "2024-08-15T19:00:40.687398Z",
     "iopub.status.busy": "2024-08-15T19:00:40.686900Z",
     "iopub.status.idle": "2024-08-15T19:00:40.694543Z",
     "shell.execute_reply": "2024-08-15T19:00:40.693043Z"
    },
    "papermill": {
     "duration": 0.021525,
     "end_time": "2024-08-15T19:00:40.697434",
     "exception": false,
     "start_time": "2024-08-15T19:00:40.675909",
     "status": "completed"
    },
    "tags": []
   },
   "outputs": [],
   "source": [
    "def applyPCA(X, numComponents=75):\n",
    "    newX = np.reshape(X, (-1, X.shape[2]))\n",
    "    pca = PCA(n_components=numComponents, whiten=True)\n",
    "    newX = pca.fit_transform(newX)\n",
    "    newX = np.reshape(newX, (X.shape[0],X.shape[1], numComponents))\n",
    "    return newX, pca"
   ]
  },
  {
   "cell_type": "code",
   "execution_count": 7,
   "id": "40f21482",
   "metadata": {
    "execution": {
     "iopub.execute_input": "2024-08-15T19:00:40.717719Z",
     "iopub.status.busy": "2024-08-15T19:00:40.717266Z",
     "iopub.status.idle": "2024-08-15T19:00:40.728041Z",
     "shell.execute_reply": "2024-08-15T19:00:40.726715Z"
    },
    "papermill": {
     "duration": 0.024207,
     "end_time": "2024-08-15T19:00:40.730852",
     "exception": false,
     "start_time": "2024-08-15T19:00:40.706645",
     "status": "completed"
    },
    "tags": []
   },
   "outputs": [],
   "source": [
    "def createImageCubes(X, y, windowSize=5, removeZeroLabels = True):\n",
    "    margin = int((windowSize - 1) / 2)\n",
    "    zeroPaddedX = padWithZeros(X, margin=margin)\n",
    "    # split patches\n",
    "    patchesData = np.zeros((X.shape[0] * X.shape[1], windowSize, windowSize, X.shape[2]))\n",
    "    patchesLabels = np.zeros((X.shape[0] * X.shape[1]))\n",
    "    patchIndex = 0\n",
    "    for r in range(margin, zeroPaddedX.shape[0] - margin):\n",
    "        for c in range(margin, zeroPaddedX.shape[1] - margin):\n",
    "            patch = zeroPaddedX[r - margin:r + margin + 1, c - margin:c + margin + 1]   \n",
    "            patchesData[patchIndex, :, :, :] = patch\n",
    "            patchesLabels[patchIndex] = y[r-margin, c-margin]\n",
    "            patchIndex = patchIndex + 1\n",
    "    if removeZeroLabels:\n",
    "        patchesData = patchesData[patchesLabels>0,:,:,:]\n",
    "        patchesLabels = patchesLabels[patchesLabels>0]\n",
    "        patchesLabels -= 1\n",
    "    return patchesData, patchesLabels"
   ]
  },
  {
   "cell_type": "code",
   "execution_count": 8,
   "id": "add8913b",
   "metadata": {
    "execution": {
     "iopub.execute_input": "2024-08-15T19:00:40.751769Z",
     "iopub.status.busy": "2024-08-15T19:00:40.751312Z",
     "iopub.status.idle": "2024-08-15T19:00:40.761886Z",
     "shell.execute_reply": "2024-08-15T19:00:40.760529Z"
    },
    "papermill": {
     "duration": 0.024565,
     "end_time": "2024-08-15T19:00:40.764649",
     "exception": false,
     "start_time": "2024-08-15T19:00:40.740084",
     "status": "completed"
    },
    "tags": []
   },
   "outputs": [
    {
     "data": {
      "text/plain": [
       "((610, 340, 103), (610, 340))"
      ]
     },
     "execution_count": 8,
     "metadata": {},
     "output_type": "execute_result"
    }
   ],
   "source": [
    "X.shape, y.shape"
   ]
  },
  {
   "cell_type": "code",
   "execution_count": 9,
   "id": "b6be7f30",
   "metadata": {
    "execution": {
     "iopub.execute_input": "2024-08-15T19:00:40.785877Z",
     "iopub.status.busy": "2024-08-15T19:00:40.785404Z",
     "iopub.status.idle": "2024-08-15T19:00:40.793243Z",
     "shell.execute_reply": "2024-08-15T19:00:40.791927Z"
    },
    "papermill": {
     "duration": 0.021487,
     "end_time": "2024-08-15T19:00:40.795747",
     "exception": false,
     "start_time": "2024-08-15T19:00:40.774260",
     "status": "completed"
    },
    "tags": []
   },
   "outputs": [
    {
     "data": {
      "text/plain": [
       "103"
      ]
     },
     "execution_count": 9,
     "metadata": {},
     "output_type": "execute_result"
    }
   ],
   "source": [
    "K=X.shape[2]\n",
    "K"
   ]
  },
  {
   "cell_type": "code",
   "execution_count": 10,
   "id": "1904f75b",
   "metadata": {
    "execution": {
     "iopub.execute_input": "2024-08-15T19:00:40.816389Z",
     "iopub.status.busy": "2024-08-15T19:00:40.815942Z",
     "iopub.status.idle": "2024-08-15T19:00:43.440407Z",
     "shell.execute_reply": "2024-08-15T19:00:43.439227Z"
    },
    "papermill": {
     "duration": 2.638107,
     "end_time": "2024-08-15T19:00:43.443190",
     "exception": false,
     "start_time": "2024-08-15T19:00:40.805083",
     "status": "completed"
    },
    "tags": []
   },
   "outputs": [
    {
     "data": {
      "text/plain": [
       "(610, 340, 15)"
      ]
     },
     "execution_count": 10,
     "metadata": {},
     "output_type": "execute_result"
    }
   ],
   "source": [
    "X,pca=applyPCA(X,numComponents=15)\n",
    "X.shape"
   ]
  },
  {
   "cell_type": "code",
   "execution_count": 11,
   "id": "e89fd112",
   "metadata": {
    "execution": {
     "iopub.execute_input": "2024-08-15T19:00:43.464360Z",
     "iopub.status.busy": "2024-08-15T19:00:43.463546Z",
     "iopub.status.idle": "2024-08-15T19:00:58.785481Z",
     "shell.execute_reply": "2024-08-15T19:00:58.784226Z"
    },
    "papermill": {
     "duration": 15.335668,
     "end_time": "2024-08-15T19:00:58.788469",
     "exception": false,
     "start_time": "2024-08-15T19:00:43.452801",
     "status": "completed"
    },
    "tags": []
   },
   "outputs": [
    {
     "data": {
      "text/plain": [
       "((42776, 25, 25, 15), (42776,))"
      ]
     },
     "execution_count": 11,
     "metadata": {},
     "output_type": "execute_result"
    }
   ],
   "source": [
    "X, y = createImageCubes(X, y, windowSize=25)\n",
    "\n",
    "X.shape, y.shape"
   ]
  },
  {
   "cell_type": "code",
   "execution_count": 12,
   "id": "d3cdf35d",
   "metadata": {
    "execution": {
     "iopub.execute_input": "2024-08-15T19:00:58.810316Z",
     "iopub.status.busy": "2024-08-15T19:00:58.809822Z",
     "iopub.status.idle": "2024-08-15T19:00:59.834580Z",
     "shell.execute_reply": "2024-08-15T19:00:59.833360Z"
    },
    "papermill": {
     "duration": 1.038944,
     "end_time": "2024-08-15T19:00:59.837474",
     "exception": false,
     "start_time": "2024-08-15T19:00:58.798530",
     "status": "completed"
    },
    "tags": []
   },
   "outputs": [
    {
     "data": {
      "text/plain": [
       "((12832, 25, 25, 15), (29944, 25, 25, 15), (12832,), (29944,))"
      ]
     },
     "execution_count": 12,
     "metadata": {},
     "output_type": "execute_result"
    }
   ],
   "source": [
    "Xtrain, Xtest, ytrain, ytest = splitTrainTestSet(X, y, test_ratio)\n",
    "\n",
    "Xtrain.shape, Xtest.shape, ytrain.shape, ytest.shape"
   ]
  },
  {
   "cell_type": "code",
   "execution_count": 13,
   "id": "79ca3495",
   "metadata": {
    "execution": {
     "iopub.execute_input": "2024-08-15T19:00:59.859246Z",
     "iopub.status.busy": "2024-08-15T19:00:59.858804Z",
     "iopub.status.idle": "2024-08-15T19:01:00.177921Z",
     "shell.execute_reply": "2024-08-15T19:01:00.176460Z"
    },
    "papermill": {
     "duration": 0.333547,
     "end_time": "2024-08-15T19:01:00.180799",
     "exception": false,
     "start_time": "2024-08-15T19:00:59.847252",
     "status": "completed"
    },
    "tags": []
   },
   "outputs": [
    {
     "data": {
      "text/plain": [
       "((8555, 25, 25, 15), (4277, 25, 25, 15), (8555,), (4277,))"
      ]
     },
     "execution_count": 13,
     "metadata": {},
     "output_type": "execute_result"
    }
   ],
   "source": [
    "Xtrain, Xvalid, ytrain, yvalid = splitTrainTestSet(Xtrain, ytrain, 0.3333)\n",
    "\n",
    "Xtrain.shape, Xvalid.shape, ytrain.shape, yvalid.shape"
   ]
  },
  {
   "cell_type": "code",
   "execution_count": 14,
   "id": "b57f9dbb",
   "metadata": {
    "execution": {
     "iopub.execute_input": "2024-08-15T19:01:00.202673Z",
     "iopub.status.busy": "2024-08-15T19:01:00.202238Z",
     "iopub.status.idle": "2024-08-15T19:01:00.213900Z",
     "shell.execute_reply": "2024-08-15T19:01:00.212740Z"
    },
    "papermill": {
     "duration": 0.025453,
     "end_time": "2024-08-15T19:01:00.216320",
     "exception": false,
     "start_time": "2024-08-15T19:01:00.190867",
     "status": "completed"
    },
    "tags": []
   },
   "outputs": [
    {
     "data": {
      "text/plain": [
       "(8555, 25, 25, 15, 1)"
      ]
     },
     "execution_count": 14,
     "metadata": {},
     "output_type": "execute_result"
    }
   ],
   "source": [
    "Xtrain = Xtrain.reshape(-1, pixelsize, pixelsize, 15, 1)\n",
    "Xtrain.shape"
   ]
  },
  {
   "cell_type": "code",
   "execution_count": 15,
   "id": "8e0463eb",
   "metadata": {
    "execution": {
     "iopub.execute_input": "2024-08-15T19:01:00.238132Z",
     "iopub.status.busy": "2024-08-15T19:01:00.237601Z",
     "iopub.status.idle": "2024-08-15T19:01:00.246865Z",
     "shell.execute_reply": "2024-08-15T19:01:00.245520Z"
    },
    "papermill": {
     "duration": 0.023281,
     "end_time": "2024-08-15T19:01:00.249565",
     "exception": false,
     "start_time": "2024-08-15T19:01:00.226284",
     "status": "completed"
    },
    "tags": []
   },
   "outputs": [
    {
     "data": {
      "text/plain": [
       "(8555, 9)"
      ]
     },
     "execution_count": 15,
     "metadata": {},
     "output_type": "execute_result"
    }
   ],
   "source": [
    "ytrain = np_utils.to_categorical(ytrain)\n",
    "ytrain.shape"
   ]
  },
  {
   "cell_type": "code",
   "execution_count": 16,
   "id": "ed99cbbf",
   "metadata": {
    "execution": {
     "iopub.execute_input": "2024-08-15T19:01:00.272665Z",
     "iopub.status.busy": "2024-08-15T19:01:00.272272Z",
     "iopub.status.idle": "2024-08-15T19:01:00.280299Z",
     "shell.execute_reply": "2024-08-15T19:01:00.279021Z"
    },
    "papermill": {
     "duration": 0.022723,
     "end_time": "2024-08-15T19:01:00.283100",
     "exception": false,
     "start_time": "2024-08-15T19:01:00.260377",
     "status": "completed"
    },
    "tags": []
   },
   "outputs": [
    {
     "data": {
      "text/plain": [
       "(4277, 25, 25, 15, 1)"
      ]
     },
     "execution_count": 16,
     "metadata": {},
     "output_type": "execute_result"
    }
   ],
   "source": [
    "Xvalid = Xvalid.reshape(-1, pixelsize, pixelsize, 15, 1) \n",
    "Xvalid.shape"
   ]
  },
  {
   "cell_type": "code",
   "execution_count": 17,
   "id": "62ba5ffc",
   "metadata": {
    "execution": {
     "iopub.execute_input": "2024-08-15T19:01:00.305041Z",
     "iopub.status.busy": "2024-08-15T19:01:00.304495Z",
     "iopub.status.idle": "2024-08-15T19:01:00.312710Z",
     "shell.execute_reply": "2024-08-15T19:01:00.311579Z"
    },
    "papermill": {
     "duration": 0.021997,
     "end_time": "2024-08-15T19:01:00.315247",
     "exception": false,
     "start_time": "2024-08-15T19:01:00.293250",
     "status": "completed"
    },
    "tags": []
   },
   "outputs": [
    {
     "data": {
      "text/plain": [
       "(4277, 9)"
      ]
     },
     "execution_count": 17,
     "metadata": {},
     "output_type": "execute_result"
    }
   ],
   "source": [
    "yvalid=np_utils.to_categorical(yvalid)\n",
    "yvalid.shape"
   ]
  },
  {
   "cell_type": "code",
   "execution_count": 18,
   "id": "957144af",
   "metadata": {
    "execution": {
     "iopub.execute_input": "2024-08-15T19:01:00.338727Z",
     "iopub.status.busy": "2024-08-15T19:01:00.338248Z",
     "iopub.status.idle": "2024-08-15T19:01:00.575400Z",
     "shell.execute_reply": "2024-08-15T19:01:00.573886Z"
    },
    "papermill": {
     "duration": 0.252314,
     "end_time": "2024-08-15T19:01:00.578298",
     "exception": false,
     "start_time": "2024-08-15T19:01:00.325984",
     "status": "completed"
    },
    "tags": []
   },
   "outputs": [
    {
     "name": "stdout",
     "output_type": "stream",
     "text": [
      "(None, 19, 19, 3, 32)\n"
     ]
    }
   ],
   "source": [
    "input_layer=Input((25,25,15,1))\n",
    "conv_layer1 = Conv3D(filters=8, kernel_size=(3, 3, 7), activation='relu')(input_layer)\n",
    "conv_layer2 = Conv3D(filters=16, kernel_size=(3, 3, 5), activation='relu')(conv_layer1)\n",
    "conv_layer3 = Conv3D(filters=32, kernel_size=(3, 3, 3), activation='relu')(conv_layer2)\n",
    "print(conv_layer3.shape)\n",
    "conv3d_shape = conv_layer3.shape\n",
    "conv_layer3 = Reshape((conv3d_shape[1], conv3d_shape[2], conv3d_shape[3]*conv3d_shape[4]))(conv_layer3)\n",
    "conv_layer4 = Conv2D(filters=64, kernel_size=(3,3), activation='relu')(conv_layer3)\n",
    "flatten_layer = Flatten()(conv_layer4)\n",
    "dense_layer1 = Dense(units=256, activation='relu')(flatten_layer)\n",
    "dense_layer1 = Dropout(0.4)(dense_layer1)\n",
    "dense_layer2 = Dense(units=128, activation='relu')(dense_layer1)\n",
    "dense_layer2 = Dropout(0.4)(dense_layer2)\n",
    "output_layer = Dense(units=9, activation='softmax')(dense_layer2)"
   ]
  },
  {
   "cell_type": "code",
   "execution_count": 19,
   "id": "de12ea65",
   "metadata": {
    "execution": {
     "iopub.execute_input": "2024-08-15T19:01:00.601163Z",
     "iopub.status.busy": "2024-08-15T19:01:00.600730Z",
     "iopub.status.idle": "2024-08-15T19:01:00.612483Z",
     "shell.execute_reply": "2024-08-15T19:01:00.611283Z"
    },
    "papermill": {
     "duration": 0.026426,
     "end_time": "2024-08-15T19:01:00.615509",
     "exception": false,
     "start_time": "2024-08-15T19:01:00.589083",
     "status": "completed"
    },
    "tags": []
   },
   "outputs": [],
   "source": [
    "model=Model(inputs=input_layer,outputs=output_layer)\n"
   ]
  },
  {
   "cell_type": "code",
   "execution_count": 20,
   "id": "7e4863a8",
   "metadata": {
    "execution": {
     "iopub.execute_input": "2024-08-15T19:01:00.638779Z",
     "iopub.status.busy": "2024-08-15T19:01:00.637540Z",
     "iopub.status.idle": "2024-08-15T19:01:00.646153Z",
     "shell.execute_reply": "2024-08-15T19:01:00.644780Z"
    },
    "papermill": {
     "duration": 0.022656,
     "end_time": "2024-08-15T19:01:00.648712",
     "exception": false,
     "start_time": "2024-08-15T19:01:00.626056",
     "status": "completed"
    },
    "tags": []
   },
   "outputs": [
    {
     "name": "stdout",
     "output_type": "stream",
     "text": [
      "Model: \"model\"\n",
      "_________________________________________________________________\n",
      "Layer (type)                 Output Shape              Param #   \n",
      "=================================================================\n",
      "input_1 (InputLayer)         [(None, 25, 25, 15, 1)]   0         \n",
      "_________________________________________________________________\n",
      "conv3d (Conv3D)              (None, 23, 23, 9, 8)      512       \n",
      "_________________________________________________________________\n",
      "conv3d_1 (Conv3D)            (None, 21, 21, 5, 16)     5776      \n",
      "_________________________________________________________________\n",
      "conv3d_2 (Conv3D)            (None, 19, 19, 3, 32)     13856     \n",
      "_________________________________________________________________\n",
      "reshape (Reshape)            (None, 19, 19, 96)        0         \n",
      "_________________________________________________________________\n",
      "conv2d (Conv2D)              (None, 17, 17, 64)        55360     \n",
      "_________________________________________________________________\n",
      "flatten (Flatten)            (None, 18496)             0         \n",
      "_________________________________________________________________\n",
      "dense (Dense)                (None, 256)               4735232   \n",
      "_________________________________________________________________\n",
      "dropout (Dropout)            (None, 256)               0         \n",
      "_________________________________________________________________\n",
      "dense_1 (Dense)              (None, 128)               32896     \n",
      "_________________________________________________________________\n",
      "dropout_1 (Dropout)          (None, 128)               0         \n",
      "_________________________________________________________________\n",
      "dense_2 (Dense)              (None, 9)                 1161      \n",
      "=================================================================\n",
      "Total params: 4,844,793\n",
      "Trainable params: 4,844,793\n",
      "Non-trainable params: 0\n",
      "_________________________________________________________________\n"
     ]
    }
   ],
   "source": [
    "model.summary()"
   ]
  },
  {
   "cell_type": "markdown",
   "id": "7553a8c3",
   "metadata": {
    "papermill": {
     "duration": 0.010194,
     "end_time": "2024-08-15T19:01:00.669662",
     "exception": false,
     "start_time": "2024-08-15T19:01:00.659468",
     "status": "completed"
    },
    "tags": []
   },
   "source": []
  },
  {
   "cell_type": "code",
   "execution_count": 21,
   "id": "f3c6dfe3",
   "metadata": {
    "execution": {
     "iopub.execute_input": "2024-08-15T19:01:00.692973Z",
     "iopub.status.busy": "2024-08-15T19:01:00.692491Z",
     "iopub.status.idle": "2024-08-15T19:01:00.707592Z",
     "shell.execute_reply": "2024-08-15T19:01:00.706367Z"
    },
    "papermill": {
     "duration": 0.030114,
     "end_time": "2024-08-15T19:01:00.710659",
     "exception": false,
     "start_time": "2024-08-15T19:01:00.680545",
     "status": "completed"
    },
    "tags": []
   },
   "outputs": [],
   "source": [
    "adam=Adam(learning_rate=0.001,decay=1e-06)\n",
    "model.compile(optimizer=adam,loss='categorical_crossentropy',metrics=['accuracy'])"
   ]
  },
  {
   "cell_type": "code",
   "execution_count": 22,
   "id": "0ad9d0c5",
   "metadata": {
    "execution": {
     "iopub.execute_input": "2024-08-15T19:01:00.734853Z",
     "iopub.status.busy": "2024-08-15T19:01:00.734429Z",
     "iopub.status.idle": "2024-08-15T19:01:00.740451Z",
     "shell.execute_reply": "2024-08-15T19:01:00.739222Z"
    },
    "papermill": {
     "duration": 0.020756,
     "end_time": "2024-08-15T19:01:00.743177",
     "exception": false,
     "start_time": "2024-08-15T19:01:00.722421",
     "status": "completed"
    },
    "tags": []
   },
   "outputs": [],
   "source": [
    "filepath = \"best-model.hdf5\"\n",
    "metric='acc'\n",
    "checkpoint=ModelCheckpoint(filepath=filepath,monitor=metric,verbose=1,save_best_only=True,mode='max')\n",
    "callback_list=[checkpoint]"
   ]
  },
  {
   "cell_type": "code",
   "execution_count": 23,
   "id": "9b82c87e",
   "metadata": {
    "execution": {
     "iopub.execute_input": "2024-08-15T19:01:00.766742Z",
     "iopub.status.busy": "2024-08-15T19:01:00.766266Z",
     "iopub.status.idle": "2024-08-15T19:05:59.800794Z",
     "shell.execute_reply": "2024-08-15T19:05:59.799486Z"
    },
    "papermill": {
     "duration": 299.049914,
     "end_time": "2024-08-15T19:05:59.803822",
     "exception": false,
     "start_time": "2024-08-15T19:01:00.753908",
     "status": "completed"
    },
    "tags": []
   },
   "outputs": [
    {
     "name": "stdout",
     "output_type": "stream",
     "text": [
      "Epoch 1/10\n",
      "34/34 [==============================] - 31s 890ms/step - loss: 1.1781 - accuracy: 0.5915 - val_loss: 0.4147 - val_accuracy: 0.8698\n",
      "Epoch 2/10\n",
      "34/34 [==============================] - 30s 876ms/step - loss: 0.2698 - accuracy: 0.9063 - val_loss: 0.0711 - val_accuracy: 0.9825\n",
      "Epoch 3/10\n",
      "34/34 [==============================] - 30s 876ms/step - loss: 0.0785 - accuracy: 0.9745 - val_loss: 0.0320 - val_accuracy: 0.9918\n",
      "Epoch 4/10\n",
      "34/34 [==============================] - 29s 851ms/step - loss: 0.0393 - accuracy: 0.9896 - val_loss: 0.0107 - val_accuracy: 0.9960\n",
      "Epoch 5/10\n",
      "34/34 [==============================] - 29s 865ms/step - loss: 0.0167 - accuracy: 0.9944 - val_loss: 0.0150 - val_accuracy: 0.9970\n",
      "Epoch 6/10\n",
      "34/34 [==============================] - 29s 869ms/step - loss: 0.0086 - accuracy: 0.9970 - val_loss: 0.0212 - val_accuracy: 0.9965\n",
      "Epoch 7/10\n",
      "34/34 [==============================] - 30s 875ms/step - loss: 0.0127 - accuracy: 0.9975 - val_loss: 0.0162 - val_accuracy: 0.9986\n",
      "Epoch 8/10\n",
      "34/34 [==============================] - 30s 876ms/step - loss: 0.0171 - accuracy: 0.9950 - val_loss: 0.0183 - val_accuracy: 0.9949\n",
      "Epoch 9/10\n",
      "34/34 [==============================] - 31s 925ms/step - loss: 0.0208 - accuracy: 0.9944 - val_loss: 0.0073 - val_accuracy: 0.9986\n",
      "Epoch 10/10\n",
      "34/34 [==============================] - 30s 875ms/step - loss: 0.0055 - accuracy: 0.9986 - val_loss: 0.0082 - val_accuracy: 0.9988\n"
     ]
    }
   ],
   "source": [
    "history=model.fit(x=Xtrain,y=ytrain,validation_data=(Xvalid,yvalid),batch_size=256,epochs=10,callbacks=callback_list)"
   ]
  },
  {
   "cell_type": "code",
   "execution_count": 24,
   "id": "d3f73752",
   "metadata": {
    "execution": {
     "iopub.execute_input": "2024-08-15T19:05:59.875317Z",
     "iopub.status.busy": "2024-08-15T19:05:59.874827Z",
     "iopub.status.idle": "2024-08-15T19:06:00.051636Z",
     "shell.execute_reply": "2024-08-15T19:06:00.050033Z"
    },
    "papermill": {
     "duration": 0.21663,
     "end_time": "2024-08-15T19:06:00.054654",
     "exception": false,
     "start_time": "2024-08-15T19:05:59.838024",
     "status": "completed"
    },
    "tags": []
   },
   "outputs": [],
   "source": [
    "model.save(\"best-model1.hdf5\")"
   ]
  },
  {
   "cell_type": "code",
   "execution_count": 25,
   "id": "95dd16d0",
   "metadata": {
    "execution": {
     "iopub.execute_input": "2024-08-15T19:06:00.124012Z",
     "iopub.status.busy": "2024-08-15T19:06:00.123534Z",
     "iopub.status.idle": "2024-08-15T19:06:00.771377Z",
     "shell.execute_reply": "2024-08-15T19:06:00.770219Z"
    },
    "papermill": {
     "duration": 0.685087,
     "end_time": "2024-08-15T19:06:00.774334",
     "exception": false,
     "start_time": "2024-08-15T19:06:00.089247",
     "status": "completed"
    },
    "tags": []
   },
   "outputs": [
    {
     "data": {
      "image/png": "[encoded data removed]",
      "text/plain": [
       "<Figure size 504x504 with 1 Axes>"
      ]
     },
     "metadata": {
      "needs_background": "light"
     },
     "output_type": "display_data"
    }
   ],
   "source": [
    "plt.figure(figsize=(7,7)) \n",
    "plt.grid() \n",
    "plt.plot(history.history['loss'])\n",
    "plt.plot(history.history['val_loss'])\n",
    "plt.ylabel('Loss') \n",
    "plt.xlabel('Epochs')\n",
    "plt.legend(['Training','Validation'], loc='upper right') \n",
    "plt.savefig(\"loss_curve.pdf\") \n",
    "plt.show()\n",
    "\n"
   ]
  },
  {
   "cell_type": "code",
   "execution_count": 26,
   "id": "a4c2a05b",
   "metadata": {
    "execution": {
     "iopub.execute_input": "2024-08-15T19:06:00.843795Z",
     "iopub.status.busy": "2024-08-15T19:06:00.843349Z",
     "iopub.status.idle": "2024-08-15T19:06:01.148155Z",
     "shell.execute_reply": "2024-08-15T19:06:01.146632Z"
    },
    "papermill": {
     "duration": 0.342852,
     "end_time": "2024-08-15T19:06:01.151085",
     "exception": false,
     "start_time": "2024-08-15T19:06:00.808233",
     "status": "completed"
    },
    "tags": []
   },
   "outputs": [
    {
     "data": {
      "image/png": "[encoded data removed]",
      "text/plain": [
       "<Figure size 360x360 with 1 Axes>"
      ]
     },
     "metadata": {
      "needs_background": "light"
     },
     "output_type": "display_data"
    }
   ],
   "source": [
    "plt.figure(figsize=(5,5)) \n",
    "plt.ylim(0,1.1) \n",
    "plt.grid() \n",
    "plt.plot(history.history['accuracy'])\n",
    "plt.plot(history.history['val_accuracy'])\n",
    "plt.ylabel('Accuracy') \n",
    "plt.xlabel('Epochs') \n",
    "plt.legend(['Training','Validation']) \n",
    "plt.savefig(\"acc_curve.pdf\") \n",
    "plt.show()"
   ]
  },
  {
   "cell_type": "code",
   "execution_count": 27,
   "id": "1d44e46f",
   "metadata": {
    "execution": {
     "iopub.execute_input": "2024-08-15T19:06:01.225023Z",
     "iopub.status.busy": "2024-08-15T19:06:01.223574Z",
     "iopub.status.idle": "2024-08-15T19:06:01.236445Z",
     "shell.execute_reply": "2024-08-15T19:06:01.235170Z"
    },
    "papermill": {
     "duration": 0.053245,
     "end_time": "2024-08-15T19:06:01.239959",
     "exception": false,
     "start_time": "2024-08-15T19:06:01.186714",
     "status": "completed"
    },
    "tags": []
   },
   "outputs": [],
   "source": [
    "model.load_weights=(\"best-model1.hdf5\")\n",
    "model.compile(loss='categorical_crossentropy', optimizer=adam, metrics=['accuracy'])\n"
   ]
  },
  {
   "cell_type": "code",
   "execution_count": 28,
   "id": "3f1ce37d",
   "metadata": {
    "execution": {
     "iopub.execute_input": "2024-08-15T19:06:01.312763Z",
     "iopub.status.busy": "2024-08-15T19:06:01.312302Z",
     "iopub.status.idle": "2024-08-15T19:06:01.320716Z",
     "shell.execute_reply": "2024-08-15T19:06:01.319572Z"
    },
    "papermill": {
     "duration": 0.048058,
     "end_time": "2024-08-15T19:06:01.323419",
     "exception": false,
     "start_time": "2024-08-15T19:06:01.275361",
     "status": "completed"
    },
    "tags": []
   },
   "outputs": [
    {
     "data": {
      "text/plain": [
       "(29944, 25, 25, 15, 1)"
      ]
     },
     "execution_count": 28,
     "metadata": {},
     "output_type": "execute_result"
    }
   ],
   "source": [
    "Xtest=Xtest.reshape(-1,pixelsize,pixelsize,15,1)\n",
    "Xtest.shape"
   ]
  },
  {
   "cell_type": "code",
   "execution_count": 29,
   "id": "af2b9e79",
   "metadata": {
    "execution": {
     "iopub.execute_input": "2024-08-15T19:06:01.396874Z",
     "iopub.status.busy": "2024-08-15T19:06:01.396385Z",
     "iopub.status.idle": "2024-08-15T19:06:01.406037Z",
     "shell.execute_reply": "2024-08-15T19:06:01.404771Z"
    },
    "papermill": {
     "duration": 0.048481,
     "end_time": "2024-08-15T19:06:01.408999",
     "exception": false,
     "start_time": "2024-08-15T19:06:01.360518",
     "status": "completed"
    },
    "tags": []
   },
   "outputs": [
    {
     "data": {
      "text/plain": [
       "(29944, 9)"
      ]
     },
     "execution_count": 29,
     "metadata": {},
     "output_type": "execute_result"
    }
   ],
   "source": [
    "ytest=np_utils.to_categorical(ytest)\n",
    "ytest.shape"
   ]
  },
  {
   "cell_type": "code",
   "execution_count": 30,
   "id": "1869eccd",
   "metadata": {
    "execution": {
     "iopub.execute_input": "2024-08-15T19:06:01.482500Z",
     "iopub.status.busy": "2024-08-15T19:06:01.482049Z",
     "iopub.status.idle": "2024-08-15T19:06:35.090474Z",
     "shell.execute_reply": "2024-08-15T19:06:35.089201Z"
    },
    "papermill": {
     "duration": 33.681329,
     "end_time": "2024-08-15T19:06:35.126084",
     "exception": false,
     "start_time": "2024-08-15T19:06:01.444755",
     "status": "completed"
    },
    "tags": []
   },
   "outputs": [
    {
     "name": "stdout",
     "output_type": "stream",
     "text": [
      "              precision    recall  f1-score   support\n",
      "\n",
      "           0       1.00      1.00      1.00      4642\n",
      "           1       1.00      1.00      1.00     13055\n",
      "           2       1.00      1.00      1.00      1469\n",
      "           3       1.00      0.99      1.00      2145\n",
      "           4       1.00      1.00      1.00       942\n",
      "           5       1.00      1.00      1.00      3520\n",
      "           6       1.00      1.00      1.00       931\n",
      "           7       1.00      1.00      1.00      2577\n",
      "           8       1.00      0.99      1.00       663\n",
      "\n",
      "    accuracy                           1.00     29944\n",
      "   macro avg       1.00      1.00      1.00     29944\n",
      "weighted avg       1.00      1.00      1.00     29944\n",
      "\n"
     ]
    }
   ],
   "source": [
    "Y_pred_test=model.predict(Xtest)\n",
    "Y_pred_test=np.argmax(Y_pred_test,axis=1)\n",
    "classification= classification_report(np.argmax(ytest,axis=1),Y_pred_test)\n",
    "print(classification)"
   ]
  },
  {
   "cell_type": "code",
   "execution_count": 31,
   "id": "5dd76f82",
   "metadata": {
    "execution": {
     "iopub.execute_input": "2024-08-15T19:06:35.197351Z",
     "iopub.status.busy": "2024-08-15T19:06:35.196883Z",
     "iopub.status.idle": "2024-08-15T19:06:35.203729Z",
     "shell.execute_reply": "2024-08-15T19:06:35.202446Z"
    },
    "papermill": {
     "duration": 0.046009,
     "end_time": "2024-08-15T19:06:35.206451",
     "exception": false,
     "start_time": "2024-08-15T19:06:35.160442",
     "status": "completed"
    },
    "tags": []
   },
   "outputs": [],
   "source": [
    "def AA_andEachClassAccuracy(confusion_matrix):\n",
    "    counter= confusion_matrix[0]\n",
    "    list_diag= np.diag(confusion_matrix)\n",
    "    list_raw_sum= np.sum(confusion_matrix,axis=1)\n",
    "    each_acc=np.nan_to_num(truediv(list_diag,list_raw_sum))\n",
    "    average_acc=np.mean(each_acc)\n",
    "    return each_acc, average_acc"
   ]
  },
  {
   "cell_type": "code",
   "execution_count": 32,
   "id": "36d0b8d7",
   "metadata": {
    "execution": {
     "iopub.execute_input": "2024-08-15T19:06:35.277551Z",
     "iopub.status.busy": "2024-08-15T19:06:35.277112Z",
     "iopub.status.idle": "2024-08-15T19:06:35.287736Z",
     "shell.execute_reply": "2024-08-15T19:06:35.286345Z"
    },
    "papermill": {
     "duration": 0.049453,
     "end_time": "2024-08-15T19:06:35.290285",
     "exception": false,
     "start_time": "2024-08-15T19:06:35.240832",
     "status": "completed"
    },
    "tags": []
   },
   "outputs": [],
   "source": [
    "import time \n",
    "def reports(X_test,y_test,name):\n",
    "    start=time.time()\n",
    "    Y_pred=model.predict(X_test)\n",
    "    y_pred=np.argmax(Y_pred,axis=1)\n",
    "    end=time.time()\n",
    "    print(end-start)\n",
    "    target_names=['Asphalt','Meadows','Gravel','Trees','Painted metal sheets','Bare Soil','Bitumen','Self-Blocking Bricks','Shadows']\n",
    "    classification=classification_report(np.argmax(y_test,axis=1),y_pred,target_names=target_names)\n",
    "    oa=accuracy_score(np.argmax(y_test,axis=1),y_pred)\n",
    "    confusion = confusion_matrix(np.argmax(y_test, axis=1), y_pred)\n",
    "    each_acc, aa = AA_andEachClassAccuracy(confusion)\n",
    "    kappa = cohen_kappa_score(np.argmax(y_test, axis=1), y_pred)\n",
    "    score = model.evaluate(X_test, y_test, batch_size=32)\n",
    "    Test_Loss =  score[0]*100\n",
    "    Test_accuracy = score[1]*100\n",
    "    return classification, confusion, Test_Loss, Test_accuracy, oa*100, each_acc*100, aa*100, kappa*100"
   ]
  },
  {
   "cell_type": "code",
   "execution_count": 33,
   "id": "39698af6",
   "metadata": {
    "execution": {
     "iopub.execute_input": "2024-08-15T19:06:35.360287Z",
     "iopub.status.busy": "2024-08-15T19:06:35.359863Z",
     "iopub.status.idle": "2024-08-15T19:07:44.217389Z",
     "shell.execute_reply": "2024-08-15T19:07:44.215959Z"
    },
    "papermill": {
     "duration": 68.895951,
     "end_time": "2024-08-15T19:07:44.220362",
     "exception": false,
     "start_time": "2024-08-15T19:06:35.324411",
     "status": "completed"
    },
    "tags": []
   },
   "outputs": [
    {
     "name": "stdout",
     "output_type": "stream",
     "text": [
      "33.27060413360596\n",
      "936/936 [==============================] - 34s 35ms/step - loss: 0.0046 - accuracy: 0.9991\n"
     ]
    }
   ],
   "source": [
    "import os \n",
    "classification, confusion, Test_loss, Test_accuracy, oa, each_acc, aa, kappa = reports(Xtest,ytest,dataset)\n",
    "classification = str(classification)\n",
    "confusion = str(confusion)\n",
    "file_name = \"classification_report.txt\"\n",
    "\n",
    "with open(file_name, 'w') as x_file:\n",
    "    x_file.write('{} Test loss (%)'.format(Test_loss))\n",
    "    x_file.write('\\n')\n",
    "    x_file.write('{} Test accuracy (%)'.format(Test_accuracy))\n",
    "    x_file.write('\\n')\n",
    "    x_file.write('\\n')\n",
    "    x_file.write('{} Kappa accuracy (%)'.format(kappa))\n",
    "    x_file.write('\\n')\n",
    "    x_file.write('{} Overall accuracy (%)'.format(oa))\n",
    "    x_file.write('\\n')\n",
    "    x_file.write('{} Average accuracy (%)'.format(aa))\n",
    "    x_file.write('\\n')\n",
    "    x_file.write('\\n')\n",
    "    x_file.write('{}'.format(classification))\n",
    "    x_file.write('\\n')\n",
    "    x_file.write('{}'.format(confusion))"
   ]
  },
  {
   "cell_type": "code",
   "execution_count": 34,
   "id": "10ab7470",
   "metadata": {
    "execution": {
     "iopub.execute_input": "2024-08-15T19:07:44.355618Z",
     "iopub.status.busy": "2024-08-15T19:07:44.355150Z",
     "iopub.status.idle": "2024-08-15T19:07:44.362653Z",
     "shell.execute_reply": "2024-08-15T19:07:44.361088Z"
    },
    "papermill": {
     "duration": 0.080782,
     "end_time": "2024-08-15T19:07:44.365818",
     "exception": false,
     "start_time": "2024-08-15T19:07:44.285036",
     "status": "completed"
    },
    "tags": []
   },
   "outputs": [],
   "source": [
    "def Patch(data,height_index,width_index):\n",
    "    height_slice=slice(height_index,height_index+PATCH_SIZE)\n",
    "    width_slice = slice(width_index, width_index+PATCH_SIZE)\n",
    "    patch = data[height_slice, width_slice, :]\n",
    "    \n",
    "    return patch"
   ]
  },
  {
   "cell_type": "code",
   "execution_count": 35,
   "id": "0273f6c9",
   "metadata": {
    "execution": {
     "iopub.execute_input": "2024-08-15T19:07:44.500269Z",
     "iopub.status.busy": "2024-08-15T19:07:44.499731Z",
     "iopub.status.idle": "2024-08-15T19:07:44.924710Z",
     "shell.execute_reply": "2024-08-15T19:07:44.923450Z"
    },
    "papermill": {
     "duration": 0.494217,
     "end_time": "2024-08-15T19:07:44.927605",
     "exception": false,
     "start_time": "2024-08-15T19:07:44.433388",
     "status": "completed"
    },
    "tags": []
   },
   "outputs": [],
   "source": [
    "X=loadmat('../input/pavia-university-hsi/PaviaU.mat')['paviaU']\n",
    "y=loadmat('../input/pavia-university-hsi/PaviaU_gt.mat')['paviaU_gt']"
   ]
  },
  {
   "cell_type": "code",
   "execution_count": 36,
   "id": "b74e9b8b",
   "metadata": {
    "execution": {
     "iopub.execute_input": "2024-08-15T19:07:45.059140Z",
     "iopub.status.busy": "2024-08-15T19:07:45.058708Z",
     "iopub.status.idle": "2024-08-15T19:07:45.064675Z",
     "shell.execute_reply": "2024-08-15T19:07:45.063475Z"
    },
    "papermill": {
     "duration": 0.075068,
     "end_time": "2024-08-15T19:07:45.067306",
     "exception": false,
     "start_time": "2024-08-15T19:07:44.992238",
     "status": "completed"
    },
    "tags": []
   },
   "outputs": [],
   "source": [
    "height=y.shape[0]\n",
    "weidth=y.shape[1]\n",
    "PATCH_SIZE=25\n",
    "numComponents=15"
   ]
  },
  {
   "cell_type": "code",
   "execution_count": 37,
   "id": "d79a39b3",
   "metadata": {
    "execution": {
     "iopub.execute_input": "2024-08-15T19:07:45.201025Z",
     "iopub.status.busy": "2024-08-15T19:07:45.200528Z",
     "iopub.status.idle": "2024-08-15T19:07:47.739002Z",
     "shell.execute_reply": "2024-08-15T19:07:47.737779Z"
    },
    "papermill": {
     "duration": 2.609328,
     "end_time": "2024-08-15T19:07:47.742143",
     "exception": false,
     "start_time": "2024-08-15T19:07:45.132815",
     "status": "completed"
    },
    "tags": []
   },
   "outputs": [],
   "source": [
    "X,pca=applyPCA(X,numComponents=numComponents)\n"
   ]
  },
  {
   "cell_type": "code",
   "execution_count": 38,
   "id": "dba65f21",
   "metadata": {
    "execution": {
     "iopub.execute_input": "2024-08-15T19:07:47.874764Z",
     "iopub.status.busy": "2024-08-15T19:07:47.874347Z",
     "iopub.status.idle": "2024-08-15T19:07:47.890972Z",
     "shell.execute_reply": "2024-08-15T19:07:47.889846Z"
    },
    "papermill": {
     "duration": 0.086364,
     "end_time": "2024-08-15T19:07:47.894035",
     "exception": false,
     "start_time": "2024-08-15T19:07:47.807671",
     "status": "completed"
    },
    "tags": []
   },
   "outputs": [],
   "source": [
    "X=padWithZeros(X,PATCH_SIZE//2)\n"
   ]
  },
  {
   "cell_type": "code",
   "execution_count": 39,
   "id": "0a5ce710",
   "metadata": {
    "execution": {
     "iopub.execute_input": "2024-08-15T19:07:48.028504Z",
     "iopub.status.busy": "2024-08-15T19:07:48.028089Z",
     "iopub.status.idle": "2024-08-15T19:52:23.865313Z",
     "shell.execute_reply": "2024-08-15T19:52:23.863520Z"
    },
    "papermill": {
     "duration": 2675.909652,
     "end_time": "2024-08-15T19:52:23.870067",
     "exception": false,
     "start_time": "2024-08-15T19:07:47.960415",
     "status": "completed"
    },
    "tags": []
   },
   "outputs": [],
   "source": [
    "outputs=np.zeros((height,weidth))\n",
    "for i in range (height):\n",
    "    for j in range (weidth):\n",
    "        target=int(y[i,j])\n",
    "        if target==0:\n",
    "            continue\n",
    "        else:\n",
    "            image_patch=Patch(X,i,j)\n",
    "            X_test_image = image_patch.reshape(1,image_patch.shape[0],image_patch.shape[1], image_patch.shape[2], 1).astype('float32')                                   \n",
    "            prediction=(model.predict(X_test_image))\n",
    "            prediction=np.argmax(prediction,axis=1)\n",
    "            outputs[i][j]=prediction+1"
   ]
  },
  {
   "cell_type": "code",
   "execution_count": 40,
   "id": "182b068b",
   "metadata": {
    "execution": {
     "iopub.execute_input": "2024-08-15T19:52:24.007490Z",
     "iopub.status.busy": "2024-08-15T19:52:24.007046Z",
     "iopub.status.idle": "2024-08-15T19:52:24.294509Z",
     "shell.execute_reply": "2024-08-15T19:52:24.292750Z"
    },
    "papermill": {
     "duration": 0.359112,
     "end_time": "2024-08-15T19:52:24.297642",
     "exception": false,
     "start_time": "2024-08-15T19:52:23.938530",
     "status": "completed"
    },
    "tags": []
   },
   "outputs": [
    {
     "data": {
      "image/png": "[encoded data removed]",
      "text/plain": [
       "<Figure size 504x504 with 1 Axes>"
      ]
     },
     "metadata": {
      "needs_background": "light"
     },
     "output_type": "display_data"
    }
   ],
   "source": [
    "ground_truth = spectral.imshow(classes = y,figsize =(7,7))\n"
   ]
  },
  {
   "cell_type": "code",
   "execution_count": 41,
   "id": "bed6664b",
   "metadata": {
    "execution": {
     "iopub.execute_input": "2024-08-15T19:52:24.431054Z",
     "iopub.status.busy": "2024-08-15T19:52:24.430564Z",
     "iopub.status.idle": "2024-08-15T19:52:24.702361Z",
     "shell.execute_reply": "2024-08-15T19:52:24.700981Z"
    },
    "papermill": {
     "duration": 0.341696,
     "end_time": "2024-08-15T19:52:24.705238",
     "exception": false,
     "start_time": "2024-08-15T19:52:24.363542",
     "status": "completed"
    },
    "tags": []
   },
   "outputs": [
    {
     "data": {
      "image/png": "[encoded data removed]",
      "text/plain": [
       "<Figure size 504x504 with 1 Axes>"
      ]
     },
     "metadata": {
      "needs_background": "light"
     },
     "output_type": "display_data"
    }
   ],
   "source": [
    "predict_image = spectral.imshow(classes = outputs.astype(int),figsize =(7,7))\n"
   ]
  },
  {
   "cell_type": "code",
   "execution_count": 42,
   "id": "5aed9352",
   "metadata": {
    "execution": {
     "iopub.execute_input": "2024-08-15T19:52:24.839570Z",
     "iopub.status.busy": "2024-08-15T19:52:24.839140Z",
     "iopub.status.idle": "2024-08-15T19:52:24.895342Z",
     "shell.execute_reply": "2024-08-15T19:52:24.894064Z"
    },
    "papermill": {
     "duration": 0.12745,
     "end_time": "2024-08-15T19:52:24.898431",
     "exception": false,
     "start_time": "2024-08-15T19:52:24.770981",
     "status": "completed"
    },
    "tags": []
   },
   "outputs": [],
   "source": [
    "spectral.save_rgb(\"predictions.jpg\", outputs.astype(int), colors=spectral.spy_colors)\n"
   ]
  },
  {
   "cell_type": "code",
   "execution_count": null,
   "id": "5f90af2b",
   "metadata": {
    "papermill": {
     "duration": 0.066758,
     "end_time": "2024-08-15T19:52:25.031188",
     "exception": false,
     "start_time": "2024-08-15T19:52:24.964430",
     "status": "completed"
    },
    "tags": []
   },
   "outputs": [],
   "source": []
  }
 ],
 "metadata": {
  "kaggle": {
   "accelerator": "none",
   "dataSources": [
    {
     "datasetId": 815910,
     "sourceId": 1397009,
     "sourceType": "datasetVersion"
    },
    {
     "datasetId": 1450588,
     "sourceId": 2398947,
     "sourceType": "datasetVersion"
    }
   ],
   "dockerImageVersionId": 30301,
   "isGpuEnabled": false,
   "isInternetEnabled": false,
   "language": "python",
   "sourceType": "notebook"
  },
  "kernelspec": {
   "display_name": "Python 3",
   "language": "python",
   "name": "python3"
  },
  "language_info": {
   "codemirror_mode": {
    "name": "ipython",
    "version": 3
   },
   "file_extension": ".py",
   "mimetype": "text/x-python",
   "name": "python",
   "nbconvert_exporter": "python",
   "pygments_lexer": "ipython3",
   "version": "3.7.12"
  },
  "papermill": {
   "default_parameters": {},
   "duration": 3128.635246,
   "end_time": "2024-08-15T19:52:28.699791",
   "environment_variables": {},
   "exception": null,
   "input_path": "__notebook__.ipynb",
   "output_path": "__notebook__.ipynb",
   "parameters": {},
   "start_time": "2024-08-15T19:00:20.064545",
   "version": "2.3.4"
  }
 },
 "nbformat": 4,
 "nbformat_minor": 5
}
